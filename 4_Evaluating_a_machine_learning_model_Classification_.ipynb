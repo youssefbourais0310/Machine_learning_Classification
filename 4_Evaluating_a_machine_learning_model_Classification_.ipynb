{
  "nbformat": 4,
  "nbformat_minor": 0,
  "metadata": {
    "colab": {
      "name": "4. Evaluating a machine learning model_Classification .ipynb",
      "provenance": [],
      "collapsed_sections": [],
      "mount_file_id": "1NE6fyqMFsCjcMVF1DBeUSK1IR4TSp1GP",
      "authorship_tag": "ABX9TyNxh9qGl90YahmFvS4C3ora",
      "include_colab_link": true
    },
    "kernelspec": {
      "name": "python3",
      "display_name": "Python 3"
    },
    "language_info": {
      "name": "python"
    }
  },
  "cells": [
    {
      "cell_type": "markdown",
      "metadata": {
        "id": "view-in-github",
        "colab_type": "text"
      },
      "source": [
        "<a href=\"https://colab.research.google.com/github/youssefbourais0310/Machine_learning_Classification/blob/main/4_Evaluating_a_machine_learning_model_Classification_.ipynb\" target=\"_parent\"><img src=\"https://colab.research.google.com/assets/colab-badge.svg\" alt=\"Open In Colab\"/></a>"
      ]
    },
    {
      "cell_type": "code",
      "metadata": {
        "id": "QKdE3lTYjEoK"
      },
      "source": [
        "# Standard imports\n",
        "import numpy as np \n",
        "import pandas as pd \n",
        "import matplotlib.pyplot as plt\n",
        "%matplotlib inline\n"
      ],
      "execution_count": 1,
      "outputs": []
    },
    {
      "cell_type": "code",
      "metadata": {
        "colab": {
          "base_uri": "https://localhost:8080/",
          "height": 203
        },
        "id": "5SpiX3wqjhWU",
        "outputId": "e5a52d2e-0fc5-4198-b72e-0d9b2685e116"
      },
      "source": [
        "#1.get the data ready  \n",
        "heart_disease = pd.read_csv(\"/content/drive/MyDrive/heart-disease.csv\")     \n",
        "heart_disease.head()"
      ],
      "execution_count": 2,
      "outputs": [
        {
          "output_type": "execute_result",
          "data": {
            "text/html": [
              "<div>\n",
              "<style scoped>\n",
              "    .dataframe tbody tr th:only-of-type {\n",
              "        vertical-align: middle;\n",
              "    }\n",
              "\n",
              "    .dataframe tbody tr th {\n",
              "        vertical-align: top;\n",
              "    }\n",
              "\n",
              "    .dataframe thead th {\n",
              "        text-align: right;\n",
              "    }\n",
              "</style>\n",
              "<table border=\"1\" class=\"dataframe\">\n",
              "  <thead>\n",
              "    <tr style=\"text-align: right;\">\n",
              "      <th></th>\n",
              "      <th>age</th>\n",
              "      <th>sex</th>\n",
              "      <th>cp</th>\n",
              "      <th>trestbps</th>\n",
              "      <th>chol</th>\n",
              "      <th>fbs</th>\n",
              "      <th>restecg</th>\n",
              "      <th>thalach</th>\n",
              "      <th>exang</th>\n",
              "      <th>oldpeak</th>\n",
              "      <th>slope</th>\n",
              "      <th>ca</th>\n",
              "      <th>thal</th>\n",
              "      <th>target</th>\n",
              "    </tr>\n",
              "  </thead>\n",
              "  <tbody>\n",
              "    <tr>\n",
              "      <th>0</th>\n",
              "      <td>63</td>\n",
              "      <td>1</td>\n",
              "      <td>3</td>\n",
              "      <td>145</td>\n",
              "      <td>233</td>\n",
              "      <td>1</td>\n",
              "      <td>0</td>\n",
              "      <td>150</td>\n",
              "      <td>0</td>\n",
              "      <td>2.3</td>\n",
              "      <td>0</td>\n",
              "      <td>0</td>\n",
              "      <td>1</td>\n",
              "      <td>1</td>\n",
              "    </tr>\n",
              "    <tr>\n",
              "      <th>1</th>\n",
              "      <td>37</td>\n",
              "      <td>1</td>\n",
              "      <td>2</td>\n",
              "      <td>130</td>\n",
              "      <td>250</td>\n",
              "      <td>0</td>\n",
              "      <td>1</td>\n",
              "      <td>187</td>\n",
              "      <td>0</td>\n",
              "      <td>3.5</td>\n",
              "      <td>0</td>\n",
              "      <td>0</td>\n",
              "      <td>2</td>\n",
              "      <td>1</td>\n",
              "    </tr>\n",
              "    <tr>\n",
              "      <th>2</th>\n",
              "      <td>41</td>\n",
              "      <td>0</td>\n",
              "      <td>1</td>\n",
              "      <td>130</td>\n",
              "      <td>204</td>\n",
              "      <td>0</td>\n",
              "      <td>0</td>\n",
              "      <td>172</td>\n",
              "      <td>0</td>\n",
              "      <td>1.4</td>\n",
              "      <td>2</td>\n",
              "      <td>0</td>\n",
              "      <td>2</td>\n",
              "      <td>1</td>\n",
              "    </tr>\n",
              "    <tr>\n",
              "      <th>3</th>\n",
              "      <td>56</td>\n",
              "      <td>1</td>\n",
              "      <td>1</td>\n",
              "      <td>120</td>\n",
              "      <td>236</td>\n",
              "      <td>0</td>\n",
              "      <td>1</td>\n",
              "      <td>178</td>\n",
              "      <td>0</td>\n",
              "      <td>0.8</td>\n",
              "      <td>2</td>\n",
              "      <td>0</td>\n",
              "      <td>2</td>\n",
              "      <td>1</td>\n",
              "    </tr>\n",
              "    <tr>\n",
              "      <th>4</th>\n",
              "      <td>57</td>\n",
              "      <td>0</td>\n",
              "      <td>0</td>\n",
              "      <td>120</td>\n",
              "      <td>354</td>\n",
              "      <td>0</td>\n",
              "      <td>1</td>\n",
              "      <td>163</td>\n",
              "      <td>1</td>\n",
              "      <td>0.6</td>\n",
              "      <td>2</td>\n",
              "      <td>0</td>\n",
              "      <td>2</td>\n",
              "      <td>1</td>\n",
              "    </tr>\n",
              "  </tbody>\n",
              "</table>\n",
              "</div>"
            ],
            "text/plain": [
              "   age  sex  cp  trestbps  chol  fbs  ...  exang  oldpeak  slope  ca  thal  target\n",
              "0   63    1   3       145   233    1  ...      0      2.3      0   0     1       1\n",
              "1   37    1   2       130   250    0  ...      0      3.5      0   0     2       1\n",
              "2   41    0   1       130   204    0  ...      0      1.4      2   0     2       1\n",
              "3   56    1   1       120   236    0  ...      0      0.8      2   0     2       1\n",
              "4   57    0   0       120   354    0  ...      1      0.6      2   0     2       1\n",
              "\n",
              "[5 rows x 14 columns]"
            ]
          },
          "metadata": {},
          "execution_count": 2
        }
      ]
    },
    {
      "cell_type": "code",
      "metadata": {
        "colab": {
          "base_uri": "https://localhost:8080/"
        },
        "id": "auxU5uz3jnCQ",
        "outputId": "cfa4d336-c4be-4e84-afd7-d2df9645cb0a"
      },
      "source": [
        "# Import the RandomForestClassifier estimator class\n",
        "from sklearn.model_selection import  cross_val_score\n",
        "from sklearn.ensemble import  RandomForestClassifier\n",
        "from sklearn.model_selection import train_test_split\n",
        "\n",
        "# Setup random seed\n",
        "np.random.seed(42)\n",
        "\n",
        "# Make the data\n",
        "X = heart_disease.drop(\"target\" , axis = 1)\n",
        "y = heart_disease  [\"target\"] \n",
        "\n",
        "# Split the data\n",
        "X_train, X_test, y_train, y_test = train_test_split(X, y, test_size=0.2)\n",
        "\n",
        "#instatiate RandomForestClassifier\n",
        "clf = RandomForestClassifier()\n",
        "\n",
        "# Fit the model to the data(training the machine learning model  )\n",
        "clf.fit(X_train , y_train )"
      ],
      "execution_count": 3,
      "outputs": [
        {
          "output_type": "execute_result",
          "data": {
            "text/plain": [
              "RandomForestClassifier(bootstrap=True, ccp_alpha=0.0, class_weight=None,\n",
              "                       criterion='gini', max_depth=None, max_features='auto',\n",
              "                       max_leaf_nodes=None, max_samples=None,\n",
              "                       min_impurity_decrease=0.0, min_impurity_split=None,\n",
              "                       min_samples_leaf=1, min_samples_split=2,\n",
              "                       min_weight_fraction_leaf=0.0, n_estimators=100,\n",
              "                       n_jobs=None, oob_score=False, random_state=None,\n",
              "                       verbose=0, warm_start=False)"
            ]
          },
          "metadata": {},
          "execution_count": 3
        }
      ]
    },
    {
      "cell_type": "markdown",
      "metadata": {
        "id": "RN_CyxjPADjh"
      },
      "source": [
        "![CROSS_VALIDATION.png](data:image/png;base64,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)"
      ]
    },
    {
      "cell_type": "code",
      "metadata": {
        "colab": {
          "base_uri": "https://localhost:8080/"
        },
        "id": "iSqy7wanvqlp",
        "outputId": "4458a0af-dfcc-4054-e456-77769b0ce060"
      },
      "source": [
        "clf.score(X_test,y_test)"
      ],
      "execution_count": 4,
      "outputs": [
        {
          "output_type": "execute_result",
          "data": {
            "text/plain": [
              "0.8524590163934426"
            ]
          },
          "metadata": {},
          "execution_count": 4
        }
      ]
    },
    {
      "cell_type": "code",
      "metadata": {
        "colab": {
          "base_uri": "https://localhost:8080/"
        },
        "id": "nfZttzwZj7Hs",
        "outputId": "55ae004c-b21a-4bde-cf05-a52bc1101e21"
      },
      "source": [
        "#model is trained on 5 diffrent versions of training data,and evaluated on 5 diffrent versions of the test data\n",
        "cross_val_score(clf , X , y , cv=5 )\n"
      ],
      "execution_count": 5,
      "outputs": [
        {
          "output_type": "execute_result",
          "data": {
            "text/plain": [
              "array([0.81967213, 0.86885246, 0.81967213, 0.78333333, 0.76666667])"
            ]
          },
          "metadata": {},
          "execution_count": 5
        }
      ]
    },
    {
      "cell_type": "code",
      "metadata": {
        "colab": {
          "base_uri": "https://localhost:8080/"
        },
        "id": "QPwt1x_kvYMb",
        "outputId": "e627f997-21be-4b51-9afe-f54f90e4ece4"
      },
      "source": [
        "#model is trained on 10 diffrent versions of training data,and evaluated on 10 diffrent versions of the test data\n",
        "cross_val_score(clf , X , y , cv=10 )"
      ],
      "execution_count": 6,
      "outputs": [
        {
          "output_type": "execute_result",
          "data": {
            "text/plain": [
              "array([0.90322581, 0.80645161, 0.87096774, 0.9       , 0.86666667,\n",
              "       0.8       , 0.73333333, 0.86666667, 0.73333333, 0.8       ])"
            ]
          },
          "metadata": {},
          "execution_count": 6
        }
      ]
    },
    {
      "cell_type": "code",
      "metadata": {
        "colab": {
          "base_uri": "https://localhost:8080/"
        },
        "id": "eyoWAJoBz4RZ",
        "outputId": "79a96517-54e8-446a-e6f7-20ef7ebf9496"
      },
      "source": [
        "np.random.seed(42)\n",
        "\n",
        "#clf_single_score=clf.score\n",
        "\n",
        "# Single training and test split score\n",
        "clf_single_score = clf.score(X_test, y_test)\n",
        "\n",
        "# Take the mean of 5-fold cross-validation score\n",
        "clf_cross_val_score = np.mean(cross_val_score(clf, X, y,cv=5))\n",
        "\n",
        "# Compare the two\n",
        "clf_single_score, clf_cross_val_score"
      ],
      "execution_count": 7,
      "outputs": [
        {
          "output_type": "execute_result",
          "data": {
            "text/plain": [
              "(0.8524590163934426, 0.8248087431693989)"
            ]
          },
          "metadata": {},
          "execution_count": 7
        }
      ]
    },
    {
      "cell_type": "code",
      "metadata": {
        "colab": {
          "base_uri": "https://localhost:8080/"
        },
        "id": "tFWNsNVf1Jfb",
        "outputId": "b0663aee-f31a-4241-df21-c4668d9bbb0d"
      },
      "source": [
        "# Defulte scoring parameter of classifier = ,ean accuracy \n",
        "clf.score(X_test, y_test)"
      ],
      "execution_count": 8,
      "outputs": [
        {
          "output_type": "execute_result",
          "data": {
            "text/plain": [
              "0.8524590163934426"
            ]
          },
          "metadata": {},
          "execution_count": 8
        }
      ]
    },
    {
      "cell_type": "code",
      "metadata": {
        "colab": {
          "base_uri": "https://localhost:8080/"
        },
        "id": "mPFTJmKayF_u",
        "outputId": "2e9ef544-4aaf-43a2-9072-8a39e6e4524e"
      },
      "source": [
        "#scoring parameter set to None by default\n",
        "cross_val_score(clf, X, y, cv=5, scoring=None)"
      ],
      "execution_count": 9,
      "outputs": [
        {
          "output_type": "execute_result",
          "data": {
            "text/plain": [
              "array([0.78688525, 0.86885246, 0.80327869, 0.78333333, 0.76666667])"
            ]
          },
          "metadata": {},
          "execution_count": 9
        }
      ]
    },
    {
      "cell_type": "markdown",
      "metadata": {
        "id": "CH26ETHE1-KB"
      },
      "source": [
        "##  So Why do we use cross-validation score ?\n",
        "##  To avoid getting lucky scores."
      ]
    },
    {
      "cell_type": "markdown",
      "metadata": {
        "id": "7SpCh0Tm9Knv"
      },
      "source": [
        "-----------------------------------------------------------------------------------------------------------------------------------------------------------------------------------------------------------------------------------------------------------------------------------------------------------------------------------------------------------------------------------------------------------------------------------------------------------------------------------------------------------------------------------------------------------------------------------------------------------------------------------------------------------"
      ]
    },
    {
      "cell_type": "markdown",
      "metadata": {
        "id": "YtFbIPZQ3TGG"
      },
      "source": [
        "# Classification model evaluation metrics"
      ]
    },
    {
      "cell_type": "markdown",
      "metadata": {
        "id": "Pn4HQy-c3hKX"
      },
      "source": [
        "\n",
        "\n",
        "1.   Accuracy\n",
        "2.   Area under ROC curve\n",
        "3.   Confusion matrix\n",
        "4.   Classification report\n",
        "\n"
      ]
    },
    {
      "cell_type": "markdown",
      "metadata": {
        "id": "Bz-XYIhG3-jL"
      },
      "source": [
        "# 1 Accuracy"
      ]
    },
    {
      "cell_type": "code",
      "metadata": {
        "colab": {
          "base_uri": "https://localhost:8080/",
          "height": 203
        },
        "id": "wiT3yJ_t4DJg",
        "outputId": "d308b2f2-7b76-4b03-8860-21ebc489988b"
      },
      "source": [
        "heart_disease.head()"
      ],
      "execution_count": 10,
      "outputs": [
        {
          "output_type": "execute_result",
          "data": {
            "text/html": [
              "<div>\n",
              "<style scoped>\n",
              "    .dataframe tbody tr th:only-of-type {\n",
              "        vertical-align: middle;\n",
              "    }\n",
              "\n",
              "    .dataframe tbody tr th {\n",
              "        vertical-align: top;\n",
              "    }\n",
              "\n",
              "    .dataframe thead th {\n",
              "        text-align: right;\n",
              "    }\n",
              "</style>\n",
              "<table border=\"1\" class=\"dataframe\">\n",
              "  <thead>\n",
              "    <tr style=\"text-align: right;\">\n",
              "      <th></th>\n",
              "      <th>age</th>\n",
              "      <th>sex</th>\n",
              "      <th>cp</th>\n",
              "      <th>trestbps</th>\n",
              "      <th>chol</th>\n",
              "      <th>fbs</th>\n",
              "      <th>restecg</th>\n",
              "      <th>thalach</th>\n",
              "      <th>exang</th>\n",
              "      <th>oldpeak</th>\n",
              "      <th>slope</th>\n",
              "      <th>ca</th>\n",
              "      <th>thal</th>\n",
              "      <th>target</th>\n",
              "    </tr>\n",
              "  </thead>\n",
              "  <tbody>\n",
              "    <tr>\n",
              "      <th>0</th>\n",
              "      <td>63</td>\n",
              "      <td>1</td>\n",
              "      <td>3</td>\n",
              "      <td>145</td>\n",
              "      <td>233</td>\n",
              "      <td>1</td>\n",
              "      <td>0</td>\n",
              "      <td>150</td>\n",
              "      <td>0</td>\n",
              "      <td>2.3</td>\n",
              "      <td>0</td>\n",
              "      <td>0</td>\n",
              "      <td>1</td>\n",
              "      <td>1</td>\n",
              "    </tr>\n",
              "    <tr>\n",
              "      <th>1</th>\n",
              "      <td>37</td>\n",
              "      <td>1</td>\n",
              "      <td>2</td>\n",
              "      <td>130</td>\n",
              "      <td>250</td>\n",
              "      <td>0</td>\n",
              "      <td>1</td>\n",
              "      <td>187</td>\n",
              "      <td>0</td>\n",
              "      <td>3.5</td>\n",
              "      <td>0</td>\n",
              "      <td>0</td>\n",
              "      <td>2</td>\n",
              "      <td>1</td>\n",
              "    </tr>\n",
              "    <tr>\n",
              "      <th>2</th>\n",
              "      <td>41</td>\n",
              "      <td>0</td>\n",
              "      <td>1</td>\n",
              "      <td>130</td>\n",
              "      <td>204</td>\n",
              "      <td>0</td>\n",
              "      <td>0</td>\n",
              "      <td>172</td>\n",
              "      <td>0</td>\n",
              "      <td>1.4</td>\n",
              "      <td>2</td>\n",
              "      <td>0</td>\n",
              "      <td>2</td>\n",
              "      <td>1</td>\n",
              "    </tr>\n",
              "    <tr>\n",
              "      <th>3</th>\n",
              "      <td>56</td>\n",
              "      <td>1</td>\n",
              "      <td>1</td>\n",
              "      <td>120</td>\n",
              "      <td>236</td>\n",
              "      <td>0</td>\n",
              "      <td>1</td>\n",
              "      <td>178</td>\n",
              "      <td>0</td>\n",
              "      <td>0.8</td>\n",
              "      <td>2</td>\n",
              "      <td>0</td>\n",
              "      <td>2</td>\n",
              "      <td>1</td>\n",
              "    </tr>\n",
              "    <tr>\n",
              "      <th>4</th>\n",
              "      <td>57</td>\n",
              "      <td>0</td>\n",
              "      <td>0</td>\n",
              "      <td>120</td>\n",
              "      <td>354</td>\n",
              "      <td>0</td>\n",
              "      <td>1</td>\n",
              "      <td>163</td>\n",
              "      <td>1</td>\n",
              "      <td>0.6</td>\n",
              "      <td>2</td>\n",
              "      <td>0</td>\n",
              "      <td>2</td>\n",
              "      <td>1</td>\n",
              "    </tr>\n",
              "  </tbody>\n",
              "</table>\n",
              "</div>"
            ],
            "text/plain": [
              "   age  sex  cp  trestbps  chol  fbs  ...  exang  oldpeak  slope  ca  thal  target\n",
              "0   63    1   3       145   233    1  ...      0      2.3      0   0     1       1\n",
              "1   37    1   2       130   250    0  ...      0      3.5      0   0     2       1\n",
              "2   41    0   1       130   204    0  ...      0      1.4      2   0     2       1\n",
              "3   56    1   1       120   236    0  ...      0      0.8      2   0     2       1\n",
              "4   57    0   0       120   354    0  ...      1      0.6      2   0     2       1\n",
              "\n",
              "[5 rows x 14 columns]"
            ]
          },
          "metadata": {},
          "execution_count": 10
        }
      ]
    },
    {
      "cell_type": "code",
      "metadata": {
        "id": "E5-fBXIh4KGT"
      },
      "source": [
        "from sklearn.model_selection import cross_val_score\n",
        "from sklearn.ensemble import RandomForestClassifier\n",
        "\n",
        "np.random.seed(2020)\n",
        "\n",
        "X = heart_disease.drop(\"target\", axis=1)\n",
        "y = heart_disease[\"target\"]\n",
        "\n",
        "clf = RandomForestClassifier()\n",
        "cross_val_score = cross_val_score(clf, X, y)"
      ],
      "execution_count": 11,
      "outputs": []
    },
    {
      "cell_type": "code",
      "metadata": {
        "colab": {
          "base_uri": "https://localhost:8080/"
        },
        "id": "WAG5o4_P4NB4",
        "outputId": "bf6153a6-4ef7-41df-8eca-6c729b86e40c"
      },
      "source": [
        "np.mean(cross_val_score)"
      ],
      "execution_count": 12,
      "outputs": [
        {
          "output_type": "execute_result",
          "data": {
            "text/plain": [
              "0.8149726775956283"
            ]
          },
          "metadata": {},
          "execution_count": 12
        }
      ]
    },
    {
      "cell_type": "code",
      "metadata": {
        "colab": {
          "base_uri": "https://localhost:8080/"
        },
        "id": "DXbVH_iO4OSX",
        "outputId": "038caf2f-e10f-419b-8024-6948edf0e1d8"
      },
      "source": [
        "print(f\"Heart Disease Classifier Cross-Validated Accuracy: {np.mean(cross_val_score) *100:.2f}%\")\n"
      ],
      "execution_count": 13,
      "outputs": [
        {
          "output_type": "stream",
          "text": [
            "Heart Disease Classifier Cross-Validated Accuracy: 81.50%\n"
          ],
          "name": "stdout"
        }
      ]
    },
    {
      "cell_type": "markdown",
      "metadata": {
        "id": "0K8cXtS_4X6G"
      },
      "source": [
        "#  2 Area under the receiver operating characteristic curve (AUC/ROC)\n",
        "\n",
        "*   Area under curve (AUC)\n",
        "*   ROC curve\n",
        " \n",
        "## ROC curves are a comparison of a model's true positive rate (tpr) versus a model's false positive rate (fpr).\n",
        "\n",
        "*   True positive = model predicts 1 when truth is 1\n",
        "*   False positive = model predicts 1 when truth is 0\n",
        "*   True negative = model predicts 0 when truth is 0\n",
        "*   False negative = model predicts 1 when truth is 1\n",
        "\n",
        "\n",
        "\n",
        "\n",
        "\n",
        "\n",
        "\n",
        "\n",
        "\n",
        "\n",
        "\n",
        "\n",
        "\n",
        "\n"
      ]
    },
    {
      "cell_type": "code",
      "metadata": {
        "id": "lGInhnmj4OUZ"
      },
      "source": [
        "# Split data\n",
        "X_train, X_test, y_train, y_test = train_test_split(X, y, test_size=0.2)"
      ],
      "execution_count": 14,
      "outputs": []
    },
    {
      "cell_type": "code",
      "metadata": {
        "colab": {
          "base_uri": "https://localhost:8080/"
        },
        "id": "5bght1CI4OWS",
        "outputId": "ef3c224f-d21f-4c3c-f495-8110dcf867e1"
      },
      "source": [
        "from sklearn.metrics import roc_curve\n",
        "\n",
        "# Fit the classifier\n",
        "clf.fit(X_train, y_train)\n",
        "\n",
        "# Make predictions with probabilities\n",
        "y_probs = clf.predict_proba(X_test)\n",
        "\n",
        "y_probs[:10]"
      ],
      "execution_count": 15,
      "outputs": [
        {
          "output_type": "execute_result",
          "data": {
            "text/plain": [
              "array([[0.25, 0.75],\n",
              "       [0.19, 0.81],\n",
              "       [0.76, 0.24],\n",
              "       [0.99, 0.01],\n",
              "       [0.46, 0.54],\n",
              "       [0.36, 0.64],\n",
              "       [0.01, 0.99],\n",
              "       [0.21, 0.79],\n",
              "       [0.45, 0.55],\n",
              "       [0.08, 0.92]])"
            ]
          },
          "metadata": {},
          "execution_count": 15
        }
      ]
    },
    {
      "cell_type": "code",
      "metadata": {
        "colab": {
          "base_uri": "https://localhost:8080/"
        },
        "id": "XbjsLyzg4OYV",
        "outputId": "1b403345-e810-45a7-c877-67704bf71278"
      },
      "source": [
        "y_probs_positive = y_probs[:, 1]\n",
        "y_probs_positive[:10]"
      ],
      "execution_count": 16,
      "outputs": [
        {
          "output_type": "execute_result",
          "data": {
            "text/plain": [
              "array([0.75, 0.81, 0.24, 0.01, 0.54, 0.64, 0.99, 0.79, 0.55, 0.92])"
            ]
          },
          "metadata": {},
          "execution_count": 16
        }
      ]
    },
    {
      "cell_type": "code",
      "metadata": {
        "colab": {
          "base_uri": "https://localhost:8080/"
        },
        "id": "bSy5W1gU4OaD",
        "outputId": "d705b10d-a034-4bb5-a1e9-cb5967364b6a"
      },
      "source": [
        "# Caculate fpr, tpr and thresholds\n",
        "fpr, tpr, thresholds = roc_curve(y_test, y_probs_positive)\n",
        "\n",
        "# Check the false positive rates\n",
        "fpr"
      ],
      "execution_count": 17,
      "outputs": [
        {
          "output_type": "execute_result",
          "data": {
            "text/plain": [
              "array([0.        , 0.        , 0.        , 0.        , 0.        ,\n",
              "       0.        , 0.03703704, 0.03703704, 0.03703704, 0.03703704,\n",
              "       0.07407407, 0.07407407, 0.07407407, 0.07407407, 0.11111111,\n",
              "       0.11111111, 0.14814815, 0.18518519, 0.18518519, 0.22222222,\n",
              "       0.22222222, 0.2962963 , 0.33333333, 0.33333333, 0.33333333,\n",
              "       0.37037037, 0.37037037, 0.44444444, 0.51851852, 0.51851852,\n",
              "       0.59259259, 0.7037037 , 0.74074074, 0.81481481, 0.88888889,\n",
              "       0.96296296, 1.        ])"
            ]
          },
          "metadata": {},
          "execution_count": 17
        }
      ]
    },
    {
      "cell_type": "code",
      "metadata": {
        "colab": {
          "base_uri": "https://localhost:8080/",
          "height": 295
        },
        "id": "oQby4ish4OcH",
        "outputId": "57484c02-0c13-4e6a-be73-d1c2a3d8b475"
      },
      "source": [
        "# Create a function for plotting ROC curves\n",
        "def plot_roc_curve(fpr, tpr):\n",
        "    \"\"\"\n",
        "    Plots a ROC curve given the false positive rate (fpr)\n",
        "    and true positive rate (tpr) of a model.\n",
        "    \"\"\"\n",
        "    # Plot roc curve\n",
        "    plt.plot(fpr, tpr, color=\"orange\", label=\"ROC\")\n",
        "    # Plot line with no predictive power (baseline)\n",
        "    plt.plot([0, 1], [0, 1], color=\"darkblue\", linestyle=\"--\", label=\"Guessing\")\n",
        "    \n",
        "    # Customize the plot\n",
        "    plt.xlabel(\"False positive rate (fpr)\")\n",
        "    plt.ylabel(\"True positive rate (tpr)\")\n",
        "    plt.title(\"Receiver Operating Characteristic (ROC) Curve\")\n",
        "    plt.legend()\n",
        "    plt.show()\n",
        "    \n",
        "plot_roc_curve(fpr, tpr)"
      ],
      "execution_count": 18,
      "outputs": [
        {
          "output_type": "display_data",
          "data": {
            "image/png": "[encoded data removed]",
            "text/plain": [
              "<Figure size 432x288 with 1 Axes>"
            ]
          },
          "metadata": {
            "needs_background": "light"
          }
        }
      ]
    },
    {
      "cell_type": "code",
      "metadata": {
        "colab": {
          "base_uri": "https://localhost:8080/"
        },
        "id": "AwlIhQt74Od_",
        "outputId": "4d27abd6-deb4-48d8-d337-bdb346cbeeca"
      },
      "source": [
        "from sklearn.metrics import roc_auc_score\n",
        "\n",
        "roc_auc_score(y_test, y_probs_positive)"
      ],
      "execution_count": 19,
      "outputs": [
        {
          "output_type": "execute_result",
          "data": {
            "text/plain": [
              "0.8921568627450981"
            ]
          },
          "metadata": {},
          "execution_count": 19
        }
      ]
    },
    {
      "cell_type": "code",
      "metadata": {
        "colab": {
          "base_uri": "https://localhost:8080/",
          "height": 295
        },
        "id": "vI290PmA4Of_",
        "outputId": "0e2c980c-37e9-4d0c-907f-f48e5dcde18b"
      },
      "source": [
        "# Plot perfect ROC curve and AUC score\n",
        "fpr, tpr, thresholds = roc_curve(y_test, y_test)\n",
        "plot_roc_curve(fpr, tpr)"
      ],
      "execution_count": 20,
      "outputs": [
        {
          "output_type": "display_data",
          "data": {
            "image/png": "[encoded data removed]",
            "text/plain": [
              "<Figure size 432x288 with 1 Axes>"
            ]
          },
          "metadata": {
            "needs_background": "light"
          }
        }
      ]
    },
    {
      "cell_type": "code",
      "metadata": {
        "colab": {
          "base_uri": "https://localhost:8080/"
        },
        "id": "Du-oZfqV4Oh1",
        "outputId": "a2721314-18ec-4d53-eae6-dcf9226a516c"
      },
      "source": [
        "# Perfect AUC score\n",
        "roc_auc_score(y_test, y_test)"
      ],
      "execution_count": 21,
      "outputs": [
        {
          "output_type": "execute_result",
          "data": {
            "text/plain": [
              "1.0"
            ]
          },
          "metadata": {},
          "execution_count": 21
        }
      ]
    },
    {
      "cell_type": "markdown",
      "metadata": {
        "id": "8khHhIxb5fcx"
      },
      "source": [
        "# 3 Confusion Matrix\n",
        "\n",
        "A confusion matrix is a quick way to compare the labels a model predicts and the actual labels it was supposed to predict.\n",
        "\n",
        "In essence, giving you an idea of where the model is getting confused."
      ]
    },
    {
      "cell_type": "code",
      "metadata": {
        "colab": {
          "base_uri": "https://localhost:8080/"
        },
        "id": "1f2QchBC4OkM",
        "outputId": "19a8aaf8-aa32-471f-afe3-6306e45ec8ff"
      },
      "source": [
        "from sklearn.metrics import confusion_matrix\n",
        "\n",
        "y_preds = clf.predict(X_test)\n",
        "\n",
        "confusion_matrix(y_test, y_preds)"
      ],
      "execution_count": 22,
      "outputs": [
        {
          "output_type": "execute_result",
          "data": {
            "text/plain": [
              "array([[21,  6],\n",
              "       [ 7, 27]])"
            ]
          },
          "metadata": {},
          "execution_count": 22
        }
      ]
    },
    {
      "cell_type": "code",
      "metadata": {
        "colab": {
          "base_uri": "https://localhost:8080/",
          "height": 142
        },
        "id": "HKYLif3w4Omj",
        "outputId": "b01d7f34-a489-4359-ddd6-34c1b40fec73"
      },
      "source": [
        "# Visualize confusion matrix with pd.crosstab()\n",
        "pd.crosstab(y_test,\n",
        "            y_preds,\n",
        "            rownames=[\"Actual Label\"],\n",
        "            colnames=[\"Predicted Labels\"])"
      ],
      "execution_count": 23,
      "outputs": [
        {
          "output_type": "execute_result",
          "data": {
            "text/html": [
              "<div>\n",
              "<style scoped>\n",
              "    .dataframe tbody tr th:only-of-type {\n",
              "        vertical-align: middle;\n",
              "    }\n",
              "\n",
              "    .dataframe tbody tr th {\n",
              "        vertical-align: top;\n",
              "    }\n",
              "\n",
              "    .dataframe thead th {\n",
              "        text-align: right;\n",
              "    }\n",
              "</style>\n",
              "<table border=\"1\" class=\"dataframe\">\n",
              "  <thead>\n",
              "    <tr style=\"text-align: right;\">\n",
              "      <th>Predicted Labels</th>\n",
              "      <th>0</th>\n",
              "      <th>1</th>\n",
              "    </tr>\n",
              "    <tr>\n",
              "      <th>Actual Label</th>\n",
              "      <th></th>\n",
              "      <th></th>\n",
              "    </tr>\n",
              "  </thead>\n",
              "  <tbody>\n",
              "    <tr>\n",
              "      <th>0</th>\n",
              "      <td>21</td>\n",
              "      <td>6</td>\n",
              "    </tr>\n",
              "    <tr>\n",
              "      <th>1</th>\n",
              "      <td>7</td>\n",
              "      <td>27</td>\n",
              "    </tr>\n",
              "  </tbody>\n",
              "</table>\n",
              "</div>"
            ],
            "text/plain": [
              "Predicted Labels   0   1\n",
              "Actual Label            \n",
              "0                 21   6\n",
              "1                  7  27"
            ]
          },
          "metadata": {},
          "execution_count": 23
        }
      ]
    },
    {
      "cell_type": "code",
      "metadata": {
        "id": "QG9KFwMq4Ook"
      },
      "source": [
        "# How to install a conda package into the current environment from a Jupyter Notebook\n",
        "#import sys\n",
        "#!conda install --yes --prefix {sys.prefix} seaborn"
      ],
      "execution_count": 24,
      "outputs": []
    },
    {
      "cell_type": "markdown",
      "metadata": {
        "id": "1EjVKhZ955Rm"
      },
      "source": [
        "Collecting package metadata (current_repodata.json): ...working... done\n",
        "\n",
        "==> WARNING: A newer version of conda exists. <==\n",
        "  current version: 4.7.12\n",
        "  latest version: 4.8.3\n",
        "\n",
        "Please update conda by running\n",
        "\n",
        "    $ conda update -n base -c defaults conda\n",
        "\n",
        "\n",
        "Solving environment: ...working... done\n",
        "\n",
        "### All requested packages already installed."
      ]
    },
    {
      "cell_type": "code",
      "metadata": {
        "colab": {
          "base_uri": "https://localhost:8080/",
          "height": 276
        },
        "id": "pCbFWy5l4OqN",
        "outputId": "3de0944f-0696-4783-9bd2-332941bd4f7f"
      },
      "source": [
        "# Make our confusion matrix more visual with Seaborn's heatmap()\n",
        "import seaborn as sns\n",
        "\n",
        "# Set the font scale\n",
        "sns.set(font_scale=1.5)\n",
        "\n",
        "# Create a confusion matrix\n",
        "conf_mat = confusion_matrix(y_test, y_preds)\n",
        "\n",
        "# Plot it using Seaborn\n",
        "sns.heatmap(conf_mat);"
      ],
      "execution_count": 25,
      "outputs": [
        {
          "output_type": "display_data",
          "data": {
            "image/png": "[encoded data removed]",
            "text/plain": [
              "<Figure size 432x288 with 2 Axes>"
            ]
          },
          "metadata": {}
        }
      ]
    },
    {
      "cell_type": "code",
      "metadata": {
        "colab": {
          "base_uri": "https://localhost:8080/",
          "height": 243
        },
        "id": "O4_sWkd-4Os2",
        "outputId": "4597a819-2d50-47c9-d72e-a8126ab5a621"
      },
      "source": [
        "def plot_conf_mat(conf_mat):\n",
        "    \"\"\"\n",
        "    Plot a confusion matrix using Seaborn's heatmap().\n",
        "    \"\"\"\n",
        "    fig, ax = plt.subplots(figsize=(3,3))\n",
        "    ax = sns.heatmap(conf_mat,\n",
        "                     annot=True, # Annotate the boxes with conf_mat info\n",
        "                     cbar=False)\n",
        "    plt.xlabel(\"True label\")\n",
        "    plt.ylabel(\"Predicted label\"); \n",
        "\n",
        "plot_conf_mat(conf_mat)"
      ],
      "execution_count": 26,
      "outputs": [
        {
          "output_type": "display_data",
          "data": {
            "image/png": "[encoded data removed]",
            "text/plain": [
              "<Figure size 216x216 with 1 Axes>"
            ]
          },
          "metadata": {}
        }
      ]
    },
    {
      "cell_type": "markdown",
      "metadata": {
        "id": "4THtHkDr6KpF"
      },
      "source": [
        "# 4 Classification Report"
      ]
    },
    {
      "cell_type": "code",
      "metadata": {
        "colab": {
          "base_uri": "https://localhost:8080/"
        },
        "id": "uLOYhlDi4OxH",
        "outputId": "d629c5e8-000c-4d56-cfaf-65c3a91d6475"
      },
      "source": [
        "from sklearn.metrics import classification_report\n",
        "\n",
        "print(classification_report(y_test, y_preds))"
      ],
      "execution_count": 27,
      "outputs": [
        {
          "output_type": "stream",
          "text": [
            "              precision    recall  f1-score   support\n",
            "\n",
            "           0       0.75      0.78      0.76        27\n",
            "           1       0.82      0.79      0.81        34\n",
            "\n",
            "    accuracy                           0.79        61\n",
            "   macro avg       0.78      0.79      0.78        61\n",
            "weighted avg       0.79      0.79      0.79        61\n",
            "\n"
          ],
          "name": "stdout"
        }
      ]
    },
    {
      "cell_type": "code",
      "metadata": {
        "colab": {
          "base_uri": "https://localhost:8080/",
          "height": 226
        },
        "id": "oJOr0nhd6RXE",
        "outputId": "f3d4afc6-72e4-4000-fafb-3d436dfffa93"
      },
      "source": [
        "# Where precision and recall become valuable\n",
        "disease_true = np.zeros(10000)\n",
        "disease_true[0] = 1 # only one positive case\n",
        "\n",
        "disease_preds = np.zeros(10000) # model predicts every case as 0\n",
        "\n",
        "pd.DataFrame(classification_report(disease_true,\n",
        "                                   disease_preds,\n",
        "                                   output_dict=True)) "
      ],
      "execution_count": 28,
      "outputs": [
        {
          "output_type": "stream",
          "text": [
            "/usr/local/lib/python3.7/dist-packages/sklearn/metrics/_classification.py:1272: UndefinedMetricWarning: Precision and F-score are ill-defined and being set to 0.0 in labels with no predicted samples. Use `zero_division` parameter to control this behavior.\n",
            "  _warn_prf(average, modifier, msg_start, len(result))\n"
          ],
          "name": "stderr"
        },
        {
          "output_type": "execute_result",
          "data": {
            "text/html": [
              "<div>\n",
              "<style scoped>\n",
              "    .dataframe tbody tr th:only-of-type {\n",
              "        vertical-align: middle;\n",
              "    }\n",
              "\n",
              "    .dataframe tbody tr th {\n",
              "        vertical-align: top;\n",
              "    }\n",
              "\n",
              "    .dataframe thead th {\n",
              "        text-align: right;\n",
              "    }\n",
              "</style>\n",
              "<table border=\"1\" class=\"dataframe\">\n",
              "  <thead>\n",
              "    <tr style=\"text-align: right;\">\n",
              "      <th></th>\n",
              "      <th>0.0</th>\n",
              "      <th>1.0</th>\n",
              "      <th>accuracy</th>\n",
              "      <th>macro avg</th>\n",
              "      <th>weighted avg</th>\n",
              "    </tr>\n",
              "  </thead>\n",
              "  <tbody>\n",
              "    <tr>\n",
              "      <th>precision</th>\n",
              "      <td>0.99990</td>\n",
              "      <td>0.0</td>\n",
              "      <td>0.9999</td>\n",
              "      <td>0.499950</td>\n",
              "      <td>0.99980</td>\n",
              "    </tr>\n",
              "    <tr>\n",
              "      <th>recall</th>\n",
              "      <td>1.00000</td>\n",
              "      <td>0.0</td>\n",
              "      <td>0.9999</td>\n",
              "      <td>0.500000</td>\n",
              "      <td>0.99990</td>\n",
              "    </tr>\n",
              "    <tr>\n",
              "      <th>f1-score</th>\n",
              "      <td>0.99995</td>\n",
              "      <td>0.0</td>\n",
              "      <td>0.9999</td>\n",
              "      <td>0.499975</td>\n",
              "      <td>0.99985</td>\n",
              "    </tr>\n",
              "    <tr>\n",
              "      <th>support</th>\n",
              "      <td>9999.00000</td>\n",
              "      <td>1.0</td>\n",
              "      <td>0.9999</td>\n",
              "      <td>10000.000000</td>\n",
              "      <td>10000.00000</td>\n",
              "    </tr>\n",
              "  </tbody>\n",
              "</table>\n",
              "</div>"
            ],
            "text/plain": [
              "                  0.0  1.0  accuracy     macro avg  weighted avg\n",
              "precision     0.99990  0.0    0.9999      0.499950       0.99980\n",
              "recall        1.00000  0.0    0.9999      0.500000       0.99990\n",
              "f1-score      0.99995  0.0    0.9999      0.499975       0.99985\n",
              "support    9999.00000  1.0    0.9999  10000.000000   10000.00000"
            ]
          },
          "metadata": {},
          "execution_count": 28
        }
      ]
    },
    {
      "cell_type": "markdown",
      "metadata": {
        "id": "pbBOIqC56due"
      },
      "source": [
        "## To summarize classification metrics:\n",
        "\n",
        "* **Accuracy** is a good measure to start with if all classes are balanced (e.g. same amount of samples which are labelled with 0 or 1).\n",
        "\n",
        "* **Precision** and **recall** become more important when classes are imbalanced.\n",
        "\n",
        "* If false positive predictions are worse than false negatives, aim for higher precision.\n",
        "\n",
        "* If false negative predictions are worse than false positives, aim for higher recall.\n",
        "\n",
        "* **F1-score** is a combination of precision and recall."
      ]
    }
  ]
}